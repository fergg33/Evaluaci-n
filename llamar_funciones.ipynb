{
 "cells": [
  {
   "cell_type": "code",
   "execution_count": 16,
   "metadata": {},
   "outputs": [],
   "source": [
    "import pandas as pd \n",
    "import funciones1 as dp "
   ]
  },
  {
   "cell_type": "code",
   "execution_count": 24,
   "metadata": {},
   "outputs": [
    {
     "data": {
      "text/plain": [
       "('Archivo CSV cargado como DataFrame',\n",
       "        Unnamed: 0                   id         host_name  \\\n",
       " 0               0               290701             David   \n",
       " 1               1               291752               Ton   \n",
       " 2               2               304082             Mirre   \n",
       " 3               3               304143              Dick   \n",
       " 4               4               306852  Gisèle And Simon   \n",
       " ...           ...                  ...               ...   \n",
       " 10027       10027  1305113794396109253            Dennis   \n",
       " 10028       10028  1305118862524488042            Dennis   \n",
       " 10029       10029  1305120526363147603            Dennis   \n",
       " 10030       10030  1305159229525542410              Mark   \n",
       " 10031       10031  1305259577734260542             Julie   \n",
       " \n",
       "                 host_location  host_response_time host_response_rate  \\\n",
       " 0      Amsterdam, Netherlands      within an hour               100%   \n",
       " 1      Amsterdam, Netherlands        within a day               100%   \n",
       " 2      Amsterdam, Netherlands  within a few hours               100%   \n",
       " 3      Amsterdam, Netherlands      within an hour               100%   \n",
       " 4      Amsterdam, Netherlands                 NaN                NaN   \n",
       " ...                       ...                 ...                ...   \n",
       " 10027  Amsterdam, Netherlands      within an hour               100%   \n",
       " 10028  Amsterdam, Netherlands      within an hour               100%   \n",
       " 10029  Amsterdam, Netherlands      within an hour               100%   \n",
       " 10030  Amsterdam, Netherlands                 NaN                NaN   \n",
       " 10031  Kuala Lumpur, Malaysia                 NaN                NaN   \n",
       " \n",
       "       host_acceptance_rate host_is_superhost        host_neighbourhood  \\\n",
       " 0                      99%                 t                 De Wallen   \n",
       " 1                     100%                 t           Oosterparkbuurt   \n",
       " 2                      97%                 t                 De Wallen   \n",
       " 3                      25%                 f  Weesperbuurt en Plantage   \n",
       " 4                      NaN                 f            Grachtengordel   \n",
       " ...                    ...               ...                       ...   \n",
       " 10027                  98%                 f                       NaN   \n",
       " 10028                  98%                 f                       NaN   \n",
       " 10029                  98%                 f                       NaN   \n",
       " 10030                  NaN                 f                       NaN   \n",
       " 10031                  NaN                 f                       NaN   \n",
       " \n",
       "        host_listings_count  ... number_of_reviews_ltm number_of_reviews_l30d  \\\n",
       " 0                        2  ...                    38                      3   \n",
       " 1                        1  ...                    18                      0   \n",
       " 2                        1  ...                    51                      0   \n",
       " 3                        2  ...                     0                      0   \n",
       " 4                        3  ...                     0                      0   \n",
       " ...                    ...  ...                   ...                    ...   \n",
       " 10027                    8  ...                     0                      0   \n",
       " 10028                    8  ...                     0                      0   \n",
       " 10029                    8  ...                     0                      0   \n",
       " 10030                    1  ...                     0                      0   \n",
       " 10031                    1  ...                     0                      0   \n",
       " \n",
       "       first_review last_review instant_bookable  \\\n",
       " 0       2012-02-20  2024-12-03                t   \n",
       " 1       2012-01-02  2024-10-09                f   \n",
       " 2       2012-03-22  2024-11-06                f   \n",
       " 3       2012-02-17  2020-03-07                f   \n",
       " 4       2012-09-14  2023-04-01                f   \n",
       " ...            ...         ...              ...   \n",
       " 10027          NaN         NaN                t   \n",
       " 10028          NaN         NaN                t   \n",
       " 10029          NaN         NaN                t   \n",
       " 10030          NaN         NaN                f   \n",
       " 10031          NaN         NaN                t   \n",
       " \n",
       "        calculated_host_listings_count  \\\n",
       " 0                                   2   \n",
       " 1                                   1   \n",
       " 2                                   1   \n",
       " 3                                   1   \n",
       " 4                                   3   \n",
       " ...                               ...   \n",
       " 10027                               6   \n",
       " 10028                               6   \n",
       " 10029                               6   \n",
       " 10030                               1   \n",
       " 10031                               1   \n",
       " \n",
       "        calculated_host_listings_count_entire_homes  \\\n",
       " 0                                                0   \n",
       " 1                                                0   \n",
       " 2                                                1   \n",
       " 3                                                1   \n",
       " 4                                                2   \n",
       " ...                                            ...   \n",
       " 10027                                            5   \n",
       " 10028                                            5   \n",
       " 10029                                            5   \n",
       " 10030                                            1   \n",
       " 10031                                            0   \n",
       " \n",
       "       calculated_host_listings_count_private_rooms  \\\n",
       " 0                                                2   \n",
       " 1                                                1   \n",
       " 2                                                0   \n",
       " 3                                                0   \n",
       " 4                                                1   \n",
       " ...                                            ...   \n",
       " 10027                                            1   \n",
       " 10028                                            1   \n",
       " 10029                                            1   \n",
       " 10030                                            0   \n",
       " 10031                                            1   \n",
       " \n",
       "       calculated_host_listings_count_shared_rooms  reviews_per_month  \n",
       " 0                                               0               3.05  \n",
       " 1                                               0               1.72  \n",
       " 2                                               0               2.15  \n",
       " 3                                               0               0.32  \n",
       " 4                                               0               0.21  \n",
       " ...                                           ...                ...  \n",
       " 10027                                           0                NaN  \n",
       " 10028                                           0                NaN  \n",
       " 10029                                           0                NaN  \n",
       " 10030                                           0                NaN  \n",
       " 10031                                           0                NaN  \n",
       " \n",
       " [10032 rows x 49 columns])"
      ]
     },
     "execution_count": 24,
     "metadata": {},
     "output_type": "execute_result"
    }
   ],
   "source": [
    "#Llamar función 1 \n",
    "nombre_archivo = \"Amsterdam1.csv\"\n",
    "df1 = dp.carga_de_archivo(\"amsterdam1.csv\")\n",
    "df1"
   ]
  },
  {
   "cell_type": "code",
   "execution_count": 25,
   "metadata": {},
   "outputs": [
    {
     "ename": "AttributeError",
     "evalue": "'tuple' object has no attribute 'columns'",
     "output_type": "error",
     "traceback": [
      "\u001b[1;31m---------------------------------------------------------------------------\u001b[0m",
      "\u001b[1;31mAttributeError\u001b[0m                            Traceback (most recent call last)",
      "Cell \u001b[1;32mIn[25], line 2\u001b[0m\n\u001b[0;32m      1\u001b[0m \u001b[38;5;66;03m#Llamar función 2\u001b[39;00m\n\u001b[1;32m----> 2\u001b[0m df_sin_nulos \u001b[38;5;241m=\u001b[39m \u001b[43mdp\u001b[49m\u001b[38;5;241;43m.\u001b[39;49m\u001b[43msustituye_valores_nulos\u001b[49m\u001b[43m(\u001b[49m\u001b[43mdf1\u001b[49m\u001b[43m)\u001b[49m\n\u001b[0;32m      3\u001b[0m df_sin_nulos\n",
      "File \u001b[1;32mc:\\Users\\fergu\\OneDrive\\Desktop\\carga de datos\\Examen\\funciones1.py:23\u001b[0m, in \u001b[0;36msustituye_valores_nulos\u001b[1;34m(df)\u001b[0m\n\u001b[0;32m     22\u001b[0m \u001b[38;5;28;01mdef\u001b[39;00m\u001b[38;5;250m \u001b[39m\u001b[38;5;21msustituye_valores_nulos\u001b[39m(df):\n\u001b[1;32m---> 23\u001b[0m     \u001b[38;5;28;01mfor\u001b[39;00m col \u001b[38;5;129;01min\u001b[39;00m \u001b[43mdf\u001b[49m\u001b[38;5;241;43m.\u001b[39;49m\u001b[43mcolumns\u001b[49m:  \u001b[38;5;66;03m#Buscamos por las columnas\u001b[39;00m\n\u001b[0;32m     24\u001b[0m         \u001b[38;5;28;01mif\u001b[39;00m df[col]\u001b[38;5;241m.\u001b[39mdtype \u001b[38;5;129;01min\u001b[39;00m [\u001b[38;5;124m'\u001b[39m\u001b[38;5;124mfloat64\u001b[39m\u001b[38;5;124m'\u001b[39m, \u001b[38;5;124m'\u001b[39m\u001b[38;5;124mint64\u001b[39m\u001b[38;5;124m'\u001b[39m]:  \u001b[38;5;66;03m# seleccionamos las numéricas \u001b[39;00m\n\u001b[0;32m     25\u001b[0m             \u001b[38;5;28;01mif\u001b[39;00m \u001b[38;5;28mlist\u001b[39m(df\u001b[38;5;241m.\u001b[39mcolumns)\u001b[38;5;241m.\u001b[39mindex(col) \u001b[38;5;241m%\u001b[39m \u001b[38;5;241m2\u001b[39m \u001b[38;5;241m==\u001b[39m \u001b[38;5;241m0\u001b[39m:  \u001b[38;5;66;03m# Si la posición es par se sustituye con mean\u001b[39;00m\n",
      "\u001b[1;31mAttributeError\u001b[0m: 'tuple' object has no attribute 'columns'"
     ]
    }
   ],
   "source": [
    "#Llamar función 2\n",
    "df_sin_nulos = dp.sustituye_valores_nulos(df1)\n",
    "df_sin_nulos"
   ]
  },
  {
   "cell_type": "code",
   "execution_count": 22,
   "metadata": {},
   "outputs": [
    {
     "ename": "AttributeError",
     "evalue": "'tuple' object has no attribute 'isnull'",
     "output_type": "error",
     "traceback": [
      "\u001b[1;31m---------------------------------------------------------------------------\u001b[0m",
      "\u001b[1;31mAttributeError\u001b[0m                            Traceback (most recent call last)",
      "Cell \u001b[1;32mIn[22], line 2\u001b[0m\n\u001b[0;32m      1\u001b[0m \u001b[38;5;66;03m#Llamar función 3\u001b[39;00m\n\u001b[1;32m----> 2\u001b[0m valores_nulos \u001b[38;5;241m=\u001b[39m \u001b[43mdp\u001b[49m\u001b[38;5;241;43m.\u001b[39;49m\u001b[43mcuenta_valores_nulos\u001b[49m\u001b[43m(\u001b[49m\u001b[43mdf1\u001b[49m\u001b[43m)\u001b[49m\n\u001b[0;32m      3\u001b[0m valores_nulos\n",
      "File \u001b[1;32mc:\\Users\\fergu\\OneDrive\\Desktop\\carga de datos\\Examen\\funciones1.py:37\u001b[0m, in \u001b[0;36mcuenta_valores_nulos\u001b[1;34m(df)\u001b[0m\n\u001b[0;32m     35\u001b[0m \u001b[38;5;28;01mdef\u001b[39;00m\u001b[38;5;250m \u001b[39m\u001b[38;5;21mcuenta_valores_nulos\u001b[39m(df):\n\u001b[0;32m     36\u001b[0m     \u001b[38;5;66;03m#Valores nulos por columna \u001b[39;00m\n\u001b[1;32m---> 37\u001b[0m     valores_nulos_cols \u001b[38;5;241m=\u001b[39m \u001b[43mdf\u001b[49m\u001b[38;5;241;43m.\u001b[39;49m\u001b[43misnull\u001b[49m()\u001b[38;5;241m.\u001b[39msum()\n\u001b[0;32m     38\u001b[0m     \u001b[38;5;66;03m#Valores nuelos por dataframe\u001b[39;00m\n\u001b[0;32m     39\u001b[0m     valores_nulos_df \u001b[38;5;241m=\u001b[39m df\u001b[38;5;241m.\u001b[39misnull()\u001b[38;5;241m.\u001b[39msum()\u001b[38;5;241m.\u001b[39msum()\n",
      "\u001b[1;31mAttributeError\u001b[0m: 'tuple' object has no attribute 'isnull'"
     ]
    }
   ],
   "source": [
    "#Llamar función 3\n",
    "valores_nulos = dp.cuenta_valores_nulos(df1)\n",
    "valores_nulos"
   ]
  },
  {
   "cell_type": "code",
   "execution_count": 23,
   "metadata": {},
   "outputs": [
    {
     "ename": "AttributeError",
     "evalue": "'tuple' object has no attribute 'columns'",
     "output_type": "error",
     "traceback": [
      "\u001b[1;31m---------------------------------------------------------------------------\u001b[0m",
      "\u001b[1;31mAttributeError\u001b[0m                            Traceback (most recent call last)",
      "Cell \u001b[1;32mIn[23], line 2\u001b[0m\n\u001b[0;32m      1\u001b[0m \u001b[38;5;66;03m#Llamar función 4\u001b[39;00m\n\u001b[1;32m----> 2\u001b[0m df_sin_atipicos\u001b[38;5;241m=\u001b[39m \u001b[43mdp\u001b[49m\u001b[38;5;241;43m.\u001b[39;49m\u001b[43msustituye_valores_atipicos\u001b[49m\u001b[43m(\u001b[49m\u001b[43mdf1\u001b[49m\u001b[43m)\u001b[49m\n",
      "File \u001b[1;32mc:\\Users\\fergu\\OneDrive\\Desktop\\carga de datos\\Examen\\funciones1.py:46\u001b[0m, in \u001b[0;36msustituye_valores_atipicos\u001b[1;34m(df)\u001b[0m\n\u001b[0;32m     45\u001b[0m \u001b[38;5;28;01mdef\u001b[39;00m\u001b[38;5;250m \u001b[39m\u001b[38;5;21msustituye_valores_atipicos\u001b[39m(df):\n\u001b[1;32m---> 46\u001b[0m     \u001b[38;5;28;01mfor\u001b[39;00m col \u001b[38;5;129;01min\u001b[39;00m \u001b[43mdf\u001b[49m\u001b[38;5;241;43m.\u001b[39;49m\u001b[43mcolumns\u001b[49m:\n\u001b[0;32m     47\u001b[0m         \u001b[38;5;28;01mif\u001b[39;00m df[col]\u001b[38;5;241m.\u001b[39mdtype \u001b[38;5;129;01min\u001b[39;00m [\u001b[38;5;124m'\u001b[39m\u001b[38;5;124mfloat64\u001b[39m\u001b[38;5;124m'\u001b[39m, \u001b[38;5;124m'\u001b[39m\u001b[38;5;124mint64\u001b[39m\u001b[38;5;124m'\u001b[39m]:\n\u001b[0;32m     48\u001b[0m             y \u001b[38;5;241m=\u001b[39m df[col]  \u001b[38;5;66;03m# Obtener la columna numérica\u001b[39;00m\n",
      "\u001b[1;31mAttributeError\u001b[0m: 'tuple' object has no attribute 'columns'"
     ]
    }
   ],
   "source": [
    "#Llamar función 4\n",
    "df_sin_atipicos= dp.sustituye_valores_atipicos(df1)"
   ]
  },
  {
   "cell_type": "code",
   "execution_count": 19,
   "metadata": {},
   "outputs": [
    {
     "ename": "AttributeError",
     "evalue": "'tuple' object has no attribute 'to_csv'",
     "output_type": "error",
     "traceback": [
      "\u001b[1;31m---------------------------------------------------------------------------\u001b[0m",
      "\u001b[1;31mAttributeError\u001b[0m                            Traceback (most recent call last)",
      "Cell \u001b[1;32mIn[19], line 1\u001b[0m\n\u001b[1;32m----> 1\u001b[0m \u001b[43mdf1\u001b[49m\u001b[38;5;241;43m.\u001b[39;49m\u001b[43mto_csv\u001b[49m(\u001b[38;5;124m\"\u001b[39m\u001b[38;5;124mAmsterdam1_procesado.csv\u001b[39m\u001b[38;5;124m\"\u001b[39m)\n",
      "\u001b[1;31mAttributeError\u001b[0m: 'tuple' object has no attribute 'to_csv'"
     ]
    }
   ],
   "source": [
    "df1.to_csv(\"Amsterdam1_procesado.csv\")\n"
   ]
  }
 ],
 "metadata": {
  "kernelspec": {
   "display_name": "Python 3",
   "language": "python",
   "name": "python3"
  },
  "language_info": {
   "codemirror_mode": {
    "name": "ipython",
    "version": 3
   },
   "file_extension": ".py",
   "mimetype": "text/x-python",
   "name": "python",
   "nbconvert_exporter": "python",
   "pygments_lexer": "ipython3",
   "version": "3.13.2"
  }
 },
 "nbformat": 4,
 "nbformat_minor": 2
}
